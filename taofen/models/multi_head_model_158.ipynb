{
 "cells": [
  {
   "cell_type": "code",
   "execution_count": 8,
   "id": "6cfd5b69-73a1-40b6-9a98-54220aef7a57",
   "metadata": {},
   "outputs": [],
   "source": [
    "import tensorflow as tf\n",
    "from tensorflow.keras import layers, Model\n",
    "from tensorflow import keras\n",
    "import pandas as pd \n",
    "import numpy as np \n",
    "\n",
    "np.set_printoptions(precision=4, suppress=True)"
   ]
  },
  {
   "cell_type": "code",
   "execution_count": 19,
   "id": "688b21cf-f917-45cd-9b3e-3f0936062f59",
   "metadata": {},
   "outputs": [],
   "source": [
    "import sys \n",
    "sys.path.append(\"../data/liuliang_data\")\n",
    "from features_config import *"
   ]
  },
  {
   "cell_type": "code",
   "execution_count": 137,
   "id": "14ebc28a-d73a-4fd1-9b64-116dba14b082",
   "metadata": {},
   "outputs": [],
   "source": [
    "class Dense_Process_Layer(layers.Layer):\n",
    "    def __init__(self, sparse_features, dense_features, price_features):\n",
    "        super().__init__()\n",
    "        self.sparse_features = sparse_features\n",
    "        self.dense_features = dense_features\n",
    "        self.price_features = price_features\n",
    "        self.concat_layer = layers.Concatenate()  # Specifying axis in constructor\n",
    "    \n",
    "    def call(self, inputs):\n",
    "        concat_numeric = []\n",
    "        for name, input in inputs.items():\n",
    "            if name in self.dense_features:\n",
    "                input_cast = tf.cast(input, tf.float32)  # Cast input once\n",
    "                if name not in self.price_features:\n",
    "                    temp_feature = tf.math.log1p(input_cast) / tf.math.log(tf.constant(2.0, dtype=tf.float32))\n",
    "                else:\n",
    "                    temp_feature = tf.math.log1p(input_cast) / tf.math.log(tf.constant(10.0, dtype=tf.float32))\n",
    "                temp_feature = tf.expand_dims(temp_feature, 1)\n",
    "                concat_numeric.append(temp_feature)\n",
    "\n",
    "        return self.concat_layer(concat_numeric)  # No need to specify axis again\n"
   ]
  },
  {
   "cell_type": "code",
   "execution_count": 138,
   "id": "5935f74b-489a-4ca8-9c07-8ba89cb2d8de",
   "metadata": {},
   "outputs": [],
   "source": [
    "class DNN(layers.Layer):\n",
    "    def __init__(self, units = [256, 64]):\n",
    "        super().__init__()\n",
    "        self.dnn = keras.Sequential([\n",
    "            layers.Dense(unit, activation = 'relu') for unit in units\n",
    "        ])\n",
    "    def call(self, x):\n",
    "        return self.dnn(x)\n",
    "        \n",
    "        \n",
    "class EveryDayModel(Model):\n",
    "    def __init__(self, sparse_features, dense_features, price_features):\n",
    "        super().__init__()\n",
    "        self.embedding_dict = {}\n",
    "        self.sparse_features = sparse_features\n",
    "        num_bins = 1000\n",
    "        for name in sparse_features:\n",
    "            self.embedding_dict[name] = layers.Embedding(num_bins, 8, name = name)\n",
    "        self.dense_process_layer = Dense_Process_Layer(sparse_features, dense_features, price_features)\n",
    "        self.concat_embedding = layers.Concatenate()\n",
    "\n",
    "        # 多任务 \n",
    "        self.dnn = DNN([256, 64] )\n",
    "\n",
    "        self.day1 = keras.layers.Dense(1)\n",
    "        self.day2 = keras.layers.Dense(1)\n",
    "        self.day3 = keras.layers.Dense(1)\n",
    "        self.day4 = keras.layers.Dense(1)\n",
    "        self.day5 = keras.layers.Dense(1)\n",
    "        self.day6 = keras.layers.Dense(1)\n",
    "        self.day7 = keras.layers.Dense(1)\n",
    "        \n",
    "\n",
    "    def call(self, inputs):\n",
    "        dense_input = self.dense_process_layer(inputs)\n",
    "        embeddings = [dense_input]\n",
    "\n",
    "        for name, input in inputs.items():\n",
    "            if name in self.embedding_dict:\n",
    "                temp_embd = self.embedding_dict[name](input)\n",
    "                embeddings.append(temp_embd)\n",
    "        embedding_input = self.concat_embedding(embeddings)\n",
    "\n",
    "        logit_7 = tf.sigmoid(self.day7(embedding_input))\n",
    "        \n",
    "        logit_1 = tf.sigmoid(self.day1(embedding_input) * logit_7)\n",
    "        logit_2 = tf.sigmoid(self.day2(embedding_input) * logit_7)\n",
    "        logit_3 = tf.sigmoid(self.day3(embedding_input) * logit_7)\n",
    "        logit_4 = tf.sigmoid(self.day4(embedding_input) * logit_7)\n",
    "        logit_5 = tf.sigmoid(self.day5(embedding_input) * logit_7)\n",
    "        logit_6 = tf.sigmoid(self.day6(embedding_input) * logit_7)\n",
    "\n",
    "        \n",
    "        return layers.Concatenate()([logit_1, logit_2, logit_3, logit_4, logit_5, logit_6, logit_7])"
   ]
  },
  {
   "cell_type": "code",
   "execution_count": 139,
   "id": "32c7ffaf-82bb-44ac-956f-31d9fbf9474e",
   "metadata": {},
   "outputs": [],
   "source": [
    "data = pd.read_csv(\"../data/liuliang_data/toy_liuliang_data.csv\", index_col= 0)"
   ]
  },
  {
   "cell_type": "code",
   "execution_count": 140,
   "id": "fd675336-17c2-4bff-971b-bad23f821489",
   "metadata": {},
   "outputs": [],
   "source": [
    "dense_features = [feature for feature in features if feature not in category_features]\n",
    "\n",
    "sparse_features, dense_features, price_feature = category_features, dense_features, price_fatures"
   ]
  },
  {
   "cell_type": "code",
   "execution_count": 141,
   "id": "8c6c11b3-3082-4276-8216-b8a1359ceea2",
   "metadata": {},
   "outputs": [],
   "source": [
    "model = EveryDayModel(sparse_features, dense_features, price_feature)"
   ]
  },
  {
   "cell_type": "code",
   "execution_count": 142,
   "id": "0c844fa2-f9e4-481b-9d2f-262ccd8316d5",
   "metadata": {},
   "outputs": [],
   "source": [
    "data_dict = {name:tf.constant(v.values) for name,v in data.items() if name in features}"
   ]
  },
  {
   "cell_type": "code",
   "execution_count": 143,
   "id": "3f58e240-e3b7-4152-9652-ae7d04fdcde5",
   "metadata": {},
   "outputs": [
    {
     "data": {
      "text/plain": [
       "<tf.Tensor: shape=(20000, 7), dtype=float32, numpy=\n",
       "array([[nan, nan, nan, ..., nan, nan, nan],\n",
       "       [nan, nan, nan, ..., nan, nan, nan],\n",
       "       [nan, nan, nan, ..., nan, nan, nan],\n",
       "       ...,\n",
       "       [nan, nan, nan, ..., nan, nan, nan],\n",
       "       [nan, nan, nan, ..., nan, nan, nan],\n",
       "       [nan, nan, nan, ..., nan, nan, nan]], dtype=float32)>"
      ]
     },
     "execution_count": 143,
     "metadata": {},
     "output_type": "execute_result"
    }
   ],
   "source": [
    "model(data_dict)"
   ]
  },
  {
   "cell_type": "code",
   "execution_count": 144,
   "id": "659184ba-2e45-4cf9-bb99-cbef68d03a36",
   "metadata": {},
   "outputs": [
    {
     "data": {
      "text/plain": [
       "is_register\n",
       "1.0    17435\n",
       "0.0     2565\n",
       "Name: count, dtype: int64"
      ]
     },
     "execution_count": 144,
     "metadata": {},
     "output_type": "execute_result"
    }
   ],
   "source": [
    "data.is_register.value_counts()"
   ]
  },
  {
   "cell_type": "code",
   "execution_count": 128,
   "id": "cd30c273-d0a4-4621-a604-d6aeab11fdf7",
   "metadata": {},
   "outputs": [
    {
     "ename": "SyntaxError",
     "evalue": "invalid syntax (4190673377.py, line 1)",
     "output_type": "error",
     "traceback": [
      "\u001b[1;36m  Cell \u001b[1;32mIn[128], line 1\u001b[1;36m\u001b[0m\n\u001b[1;33m    tf.\u001b[0m\n\u001b[1;37m       ^\u001b[0m\n\u001b[1;31mSyntaxError\u001b[0m\u001b[1;31m:\u001b[0m invalid syntax\n"
     ]
    }
   ],
   "source": [
    "tf."
   ]
  },
  {
   "cell_type": "code",
   "execution_count": null,
   "id": "89fa9133-ac10-40e8-82fc-ac95acf17836",
   "metadata": {},
   "outputs": [],
   "source": []
  }
 ],
 "metadata": {
  "kernelspec": {
   "display_name": "Python 3 (ipykernel)",
   "language": "python",
   "name": "python3"
  },
  "language_info": {
   "codemirror_mode": {
    "name": "ipython",
    "version": 3
   },
   "file_extension": ".py",
   "mimetype": "text/x-python",
   "name": "python",
   "nbconvert_exporter": "python",
   "pygments_lexer": "ipython3",
   "version": "3.10.14"
  }
 },
 "nbformat": 4,
 "nbformat_minor": 5
}
