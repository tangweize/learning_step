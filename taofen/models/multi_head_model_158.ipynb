{
 "cells": [
  {
   "cell_type": "code",
   "execution_count": 1,
   "id": "6cfd5b69-73a1-40b6-9a98-54220aef7a57",
   "metadata": {},
   "outputs": [],
   "source": [
    "import tensorflow as tf\n",
    "from tensorflow.keras import layers, Model\n",
    "from tensorflow import keras\n",
    "\n",
    "\n"
   ]
  },
  {
   "cell_type": "code",
   "execution_count": 23,
   "id": "14ebc28a-d73a-4fd1-9b64-116dba14b082",
   "metadata": {},
   "outputs": [],
   "source": [
    "class Dense_Process_Layer(layers.Layer):\n",
    "    def __init__(self, sparse_features, dense_features, price_features):\n",
    "        self.sparse_features = sparse_features\n",
    "        self.dense_features = dense_features\n",
    "        self.price_features = price_features\n",
    "        self.concat_layer = layers.Concatenate()\n",
    "    \n",
    "    def call(self, inputs):\n",
    "        concat_numeric = []\n",
    "        for name, input in inputs.items():\n",
    "            if name in dense_features:\n",
    "                if name not in price_features:\n",
    "                    temp_feature = tf.math.log1p(input) /  tf.math.log(tf.constant(2.0, dtype=tf.float32))\n",
    "                else:\n",
    "                    temp_feature = tf.math.log1p(input) /   tf.math.log(tf.constant(10.0, dtype=tf.float32))\n",
    "                concat_numeric.append(temp_feature)\n",
    "\n",
    "        return self.concat_layer(concat_numeric, axis = 1)\n",
    "        \n",
    "class "
   ]
  },
  {
   "cell_type": "code",
   "execution_count": null,
   "id": "5935f74b-489a-4ca8-9c07-8ba89cb2d8de",
   "metadata": {},
   "outputs": [],
   "source": [
    "class EveryDayModel(Model):\n",
    "    def __init__(self, inputs,  sparse_features, dense_features, price_features):\n",
    "        self.embedding_dict = {}\n",
    "        num_bins = 1000\n",
    "        for name in sparse_features:\n",
    "            self.embedding_dict[name] = layers.Embedding(num_bins, 8)\n",
    "        self.dense_process_layer = Dense_Process_Layer(sparse_features, dense_features, price_features)\n",
    "        \n",
    "        "
   ]
  },
  {
   "cell_type": "code",
   "execution_count": 16,
   "id": "9f4d8acc-3225-41b6-901f-cf9533be6d52",
   "metadata": {},
   "outputs": [
    {
     "data": {
      "text/plain": [
       "<tf.Tensor: shape=(2, 8), dtype=float32, numpy=\n",
       "array([[-0.00070654,  0.00420493, -0.03968285, -0.04753124,  0.00853604,\n",
       "         0.00776973, -0.00496557, -0.01848469],\n",
       "       [ 0.04521557,  0.01046337,  0.04815224,  0.00645217,  0.03880386,\n",
       "        -0.04316054,  0.02612242,  0.00133228]], dtype=float32)>"
      ]
     },
     "execution_count": 16,
     "metadata": {},
     "output_type": "execute_result"
    }
   ],
   "source": [
    "embedding = layers.Embedding(4, 8)\n",
    "embedding(tf.constant([1,2]))"
   ]
  },
  {
   "cell_type": "code",
   "execution_count": 17,
   "id": "a3e8b8e8-8080-426c-8e3d-638eda3fe466",
   "metadata": {},
   "outputs": [
    {
     "data": {
      "text/plain": [
       "[array([[-0.01498637, -0.03534583, -0.04598365,  0.01964403, -0.03970485,\n",
       "         -0.00461344,  0.0303312 ,  0.02263702],\n",
       "        [-0.00070654,  0.00420493, -0.03968285, -0.04753124,  0.00853604,\n",
       "          0.00776973, -0.00496557, -0.01848469],\n",
       "        [ 0.04521557,  0.01046337,  0.04815224,  0.00645217,  0.03880386,\n",
       "         -0.04316054,  0.02612242,  0.00133228],\n",
       "        [-0.02562811,  0.02902894,  0.00148463, -0.03228058, -0.02536453,\n",
       "         -0.00539424, -0.01763015, -0.00038519]], dtype=float32)]"
      ]
     },
     "execution_count": 17,
     "metadata": {},
     "output_type": "execute_result"
    }
   ],
   "source": [
    "embedding.get_weights()"
   ]
  },
  {
   "cell_type": "code",
   "execution_count": 22,
   "id": "db34396f-3736-4529-ab66-754643f60a85",
   "metadata": {},
   "outputs": [
    {
     "data": {
      "text/plain": [
       "<tf.Tensor: shape=(2, 8), dtype=float32, numpy=\n",
       "array([[-0.00070654,  0.00420493, -0.03968285, -0.04753124,  0.00853604,\n",
       "         0.00776973, -0.00496557, -0.01848469],\n",
       "       [ 0.04521557,  0.01046337,  0.04815224,  0.00645217,  0.03880386,\n",
       "        -0.04316054,  0.02612242,  0.00133228]], dtype=float32)>"
      ]
     },
     "execution_count": 22,
     "metadata": {},
     "output_type": "execute_result"
    }
   ],
   "source": [
    "embedding(tf.constant([1,2]))"
   ]
  },
  {
   "cell_type": "code",
   "execution_count": null,
   "id": "32c7ffaf-82bb-44ac-956f-31d9fbf9474e",
   "metadata": {},
   "outputs": [],
   "source": []
  }
 ],
 "metadata": {
  "kernelspec": {
   "display_name": "Python 3 (ipykernel)",
   "language": "python",
   "name": "python3"
  },
  "language_info": {
   "codemirror_mode": {
    "name": "ipython",
    "version": 3
   },
   "file_extension": ".py",
   "mimetype": "text/x-python",
   "name": "python",
   "nbconvert_exporter": "python",
   "pygments_lexer": "ipython3",
   "version": "3.8.18"
  }
 },
 "nbformat": 4,
 "nbformat_minor": 5
}
