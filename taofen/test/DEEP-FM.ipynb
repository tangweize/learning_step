{
 "cells": [
  {
   "cell_type": "code",
   "execution_count": 1,
   "metadata": {
    "is_executing": true
   },
   "outputs": [
    {
     "name": "stdout",
     "output_type": "stream",
     "text": [
      "{'SPARSE_FEATURES': ['C1', 'C2', 'C3', 'C4', 'C5', 'C6', 'C7', 'C8', 'C9', 'C10', 'C11', 'C12', 'C13', 'C14', 'C15', 'C16', 'C17', 'C18', 'C19', 'C20', 'C21', 'C22', 'C23', 'C24', 'C25', 'C26'], 'DENSE_FEATURES': ['I1', 'I2', 'I3', 'I4', 'I5', 'I6', 'I7', 'I8', 'I9', 'I10', 'I11', 'I12', 'I13'], 'label': ['label']}\n"
     ]
    }
   ],
   "source": [
    "import tensorflow as tf\n",
    "from tensorflow import keras\n",
    "from tensorflow.keras import layers\n",
    "import pandas as pd\n",
    "import sys\n",
    "sys.path.append(\"../utils\")\n",
    "sys.path.append(\"../data/\")\n",
    "from dataconfig import *\n",
    "from utils import *\n",
    "import numpy as np "
   ]
  },
  {
   "cell_type": "code",
   "execution_count": 2,
   "metadata": {},
   "outputs": [],
   "source": [
    "np.set_printoptions(precision=4, suppress=True)"
   ]
  },
  {
   "cell_type": "code",
   "execution_count": 3,
   "metadata": {},
   "outputs": [],
   "source": [
    "spase_feature_names = DATA_CONFIG['SPARSE_FEATURES']\n",
    "dense_feature_names = DATA_CONFIG['DENSE_FEATURES']\n",
    "label_feature_names = DATA_CONFIG['label']\n"
   ]
  },
  {
   "cell_type": "code",
   "execution_count": 4,
   "metadata": {},
   "outputs": [],
   "source": [
    "import platform\n",
    "if platform.system() != 'Windows':\n",
    "    dataset = DataUtil(spase_feature_names, dense_feature_names, label_feature_names).read_tfrecord(\"../data/tf_data/train_criteo_5w_rows.tfrecord\", 512)\n",
    "    eval_data = DataUtil(spase_feature_names, dense_feature_names, label_feature_names).read_tfrecord(\"../data/tf_data/test_criteo_1w_rows.tfrecord\", 512)\n",
    "    valid_data = DataUtil(spase_feature_names, dense_feature_names, label_feature_names).read_tfrecord(\"../data/tf_data/valid_criteo_1w_rows.tfrecord\", 512)\n",
    "else:\n",
    "    dataset = DataUtil(spase_feature_names, dense_feature_names, label_feature_names).read_tfrecord(\"../data/tf_data/train_criteo_200w_rows.tfrecord\", 512)\n",
    "    eval_data = DataUtil(spase_feature_names, dense_feature_names, label_feature_names).read_tfrecord(\"../data/tf_data/test_criteo_20w_rows.tfrecord\", 512)\n",
    "    valid_data = DataUtil(spase_feature_names, dense_feature_names, label_feature_names).read_tfrecord(\"../data/tf_data/valid_criteo_20w_rows.tfrecord\", 512)\n",
    "\n",
    "# 定义 inputs\n",
    "\n",
    "inputs = { name:keras.Input(shape=(1,), name=name, dtype=tf.float32) for name in dense_feature_names }\n",
    "inputs.update({\n",
    "    name:keras.Input(shape=(1,), name=name, dtype=tf.string) for name in spase_feature_names\n",
    "})\n"
   ]
  },
  {
   "cell_type": "code",
   "execution_count": 5,
   "metadata": {},
   "outputs": [],
   "source": [
    "\n",
    "from tensorflow import keras \n",
    "from tensorflow.keras.layers import Layer \n",
    "import tensorflow as tf \n",
    "\n",
    "class FM(Layer):\n",
    "    def __init__(self):\n",
    "        super.__init__()\n",
    "    def call(self, X):  #X :batch x len x embeddng_dim\n",
    "        sum_squre = tf.reduce_sum(X, axis = 1, keepdims=True) * tf.reduce_sum(X, axis = 1 , keepdims=True)\n",
    "        squre_sum = tf.reduce_sum(X * X,  axis = 1)\n",
    "        return 0.5 * tf.reduce_sum( sum_squre - squre_sum, axis = 1 )\n",
    "        \n",
    "\n",
    "class DNN(Layer):\n",
    "    def\n",
    "\n",
    "\n",
    "class DataProcess(Layer):\n",
    "    def __init__():\n",
    "\n",
    "    def __call__():\n",
    "\n",
    "\n",
    "class deepFM(Model):\n",
    "    def __init__(self, inputs, sparse_features, dense_features):\n",
    "\n",
    "    # 数据预处理 layer   1. 正则化   2. log 化  3.log + 正则化\n",
    "\n",
    "    # dnn\n",
    "\n",
    "    # embedding   8, 16\n",
    "\n",
    "    def call(self, inputs):\n",
    "\n",
    "    def model_plot(self):\n",
    "\n",
    "    def predict_test_data(eval_data):\n"
   ]
  },
  {
   "cell_type": "code",
   "execution_count": null,
   "metadata": {},
   "outputs": [],
   "source": []
  }
 ],
 "metadata": {
  "kernelspec": {
   "display_name": "Python 3 (ipykernel)",
   "language": "python",
   "name": "python3"
  },
  "language_info": {
   "codemirror_mode": {
    "name": "ipython",
    "version": 3
   },
   "file_extension": ".py",
   "mimetype": "text/x-python",
   "name": "python",
   "nbconvert_exporter": "python",
   "pygments_lexer": "ipython3",
   "version": "3.10.14"
  }
 },
 "nbformat": 4,
 "nbformat_minor": 4
}
