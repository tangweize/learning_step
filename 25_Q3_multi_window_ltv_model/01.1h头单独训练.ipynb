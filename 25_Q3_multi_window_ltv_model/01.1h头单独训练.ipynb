{
 "cells": [
  {
   "cell_type": "code",
   "execution_count": 1,
   "id": "0933135b",
   "metadata": {
    "ExecuteTime": {
     "end_time": "2025-06-24T08:14:21.965464Z",
     "start_time": "2025-06-24T08:14:18.922432Z"
    },
    "code_folding": [
     14
    ],
    "scrolled": true
   },
   "outputs": [],
   "source": [
    "import sys\n",
    "import os\n",
    "import json\n",
    "import tensorflow as tf\n",
    "import tqdm\n",
    "from models.model import *\n",
    "from ltv_utils import *\n",
    "from losses.custom_loss import *\n",
    "pd.set_option('display.float_format', '{:.4f}'.format)  # 保留10位小数，可调整\n",
    "import warnings\n",
    "warnings.simplefilter(action='ignore', category=UserWarning)\n",
    "\n",
    "\n",
    "\n",
    "def parse_function(serialized_example):\n",
    "    feature_description = {\n",
    "        'deviceid': tf.io.FixedLenFeature([], tf.string),\n",
    "        'install_date': tf.io.FixedLenFeature([], tf.string),\n",
    "        'dim_os_name1': tf.io.FixedLenFeature([], tf.string),\n",
    "        'creative_classify1': tf.io.FixedLenFeature([], tf.string),\n",
    "        'total_pay_amount1':  tf.io.FixedLenFeature([], tf.float32),\n",
    "         'channel1': tf.io.FixedLenFeature([], tf.string),\n",
    "        'b2_sale_amt_bias':  tf.io.FixedLenFeature([], tf.int64),\n",
    "         'b2_sale_amt_7d': tf.io.FixedLenFeature([], tf.int64),\n",
    "         'install_time': tf.io.FixedLenFeature([], tf.string),\n",
    "        'install_order_diff':  tf.io.FixedLenFeature([], tf.int64),\n",
    "        'all_install_order_7d_diff':  tf.io.FixedLenFeature([], tf.int64),\n",
    "        'is_a1x_a33':  tf.io.FixedLenFeature([], tf.int64),\n",
    "        'platform_label':  tf.io.FixedLenFeature([], tf.string),\n",
    "        'user_dense_price_features': tf.io.FixedLenFeature([len(group_2_features['user_dense_price_features'])], tf.float32),\n",
    "        'user_dense_duration_features': tf.io.FixedLenFeature([len(group_2_features['user_dense_duration_features'])], tf.float32),\n",
    "        'user_dense_features': tf.io.FixedLenFeature([len(group_2_features['user_dense_features'])], tf.float32),\n",
    "        'user_sparse_features': tf.io.FixedLenFeature([len(group_2_features['user_sparse_features'])], tf.float32)\n",
    "    }\n",
    "    example = tf.io.parse_single_example(serialized_example, feature_description)\n",
    "    return example\n",
    "\n",
    "\n",
    "# load tf records\n",
    "group_2_features = read_feature_json_config('features/feature_list.json')\n",
    "\n",
    "train_file_name = 'data/ltv_0522_0603_multi_window_model_train/part-r-00000'\n",
    "valid_file_name = 'data/ltv_0522_0603_multi_window_model_valid/part-r-00000'\n",
    "\n",
    "train_dataset, valid_dataset, _ = get_trian_valid_test_dateset(parse_function, 10000, train_file_name, valid_file_name)\n",
    "\n",
    "\n",
    "\n",
    "user_dense_price_features = group_2_features['user_dense_price_features']\n",
    "user_dense_duration_features = group_2_features['user_dense_duration_features']\n",
    "user_dense_features = group_2_features['user_dense_features']\n",
    "user_sparse_features = group_2_features['user_sparse_features']\n"
   ]
  },
  {
   "cell_type": "code",
   "execution_count": 2,
   "id": "063ab177-dbac-4ddc-9493-f1d8a4efb6e6",
   "metadata": {},
   "outputs": [],
   "source": [
    "MODEL_HOUR = 0 "
   ]
  },
  {
   "cell_type": "code",
   "execution_count": 3,
   "id": "7de35113",
   "metadata": {
    "ExecuteTime": {
     "end_time": "2025-06-24T08:14:23.991128Z",
     "start_time": "2025-06-24T08:14:23.973825Z"
    }
   },
   "outputs": [],
   "source": [
    "def create_tf_dataset(dataset):\n",
    "    sample_batch = next(iter(dataset))\n",
    "    sample_data = {k: v for k, v in sample_batch.items() if k not in ['b2_sale_amt_7d', 'total_pay_amount1']}\n",
    "\n",
    "    \n",
    "    def generator():\n",
    "        for batch in dataset:\n",
    "            hour = tf.cast(tf.gather(batch['user_sparse_features'],  indices=0, axis = 1) - 1, tf.int64)    # shape: (batch_size,)\n",
    "            b2_7d = tf.cast(tf.reshape(batch.pop('b2_sale_amt_7d'), (-1, 1)), tf.float32)\n",
    "            # 将 b2_7d 中小于 0 的值替换为 0\n",
    "            b2_7d = tf.maximum(b2_7d, 0.0)\n",
    "            \n",
    "            total_amt_1h = tf.reshape(batch.pop('total_pay_amount1'), (-1, 1))\n",
    "\n",
    "            # 只保留 hour 为 MODEL_HOUR 的记录\n",
    "            hour_mask = tf.equal(hour, MODEL_HOUR)  # shape: (batch_size,)\n",
    "            hour_mask = tf.reshape(hour_mask, (-1, 1))  # 广播成 (batch_size, 1)\n",
    "            \n",
    "            #  使用 hour_mask 筛选 batch 中的 对应小时窗口 \n",
    "            selected_indices = tf.where(hour_mask)[:, 0]  # 获取 hour == 1 的样本索引\n",
    "            batch = {k: tf.gather(v, selected_indices, axis=0) for k, v in batch.items()}  # 筛选 batch 中的样本\n",
    "            b2_7d = tf.gather(b2_7d, selected_indices, axis=0)  # 保留 hour == 1 对应的标签\n",
    "            total_amt_1h = tf.gather(total_amt_1h, selected_indices, axis=0)  # 保留 hour == 1 对应的标签\n",
    "\n",
    "            # # 给某个小时 增加 真实值，测一下期望拟合\n",
    "            # hour_mask = tf.equal(hour, 4)  # shape: (batch_size,)\n",
    "            # hour_mask = tf.reshape(hour_mask, (-1, 1))  # 广播成 (batch_size, 1)\n",
    "            # # ✅ 对应位置加 10000\n",
    "            # b2_7d = tf.where(hour_mask, b2_7d + 10000.0, b2_7d)\n",
    "\n",
    "            \n",
    "    \n",
    "            # 将保留的样本和标签一起返回\n",
    "            y_true_packed = tf.concat([b2_7d, total_amt_1h], axis=1)\n",
    "\n",
    "            # y_true_packed = b2_7d\n",
    "            yield batch, y_true_packed\n",
    "        \n",
    "\n",
    "    # 正确写法：output_signature 中保留每个字段的真实 shape\n",
    "    output_signature = (\n",
    "        {\n",
    "            name: tf.TensorSpec(shape=(None,) + v.shape[1:], dtype=v.dtype)\n",
    "            for name, v in sample_data.items()\n",
    "        },\n",
    "        tf.TensorSpec(shape=(None, 2), dtype=tf.float32)\n",
    "    )\n",
    "\n",
    "    return tf.data.Dataset.from_generator(generator, output_signature=output_signature)"
   ]
  },
  {
   "cell_type": "code",
   "execution_count": 4,
   "id": "13c54350",
   "metadata": {
    "ExecuteTime": {
     "end_time": "2025-06-24T08:14:25.021680Z",
     "start_time": "2025-06-24T08:14:24.757019Z"
    }
   },
   "outputs": [],
   "source": [
    "\n",
    "emb_features = [\n",
    "'creative_classify','dim_device_manufacture', 'car_add_type_most','show_order_is_2arrival_latest', 'selecttirecount_most', 'show_order_is_2arrival_most','selecttirecount_latest',\n",
    " 'new_sitename','advsite','car_add_type_latest','platform_level', 'tire_list_click_avg_index','tire_list_click_most_pid_level','tire_order_page_most_pid_level',\n",
    "]\n",
    "\n",
    "sample = next(iter(train_dataset))\n",
    "input_shape = {k: v.shape for k, v in sample.items()}\n"
   ]
  },
  {
   "cell_type": "code",
   "execution_count": 16,
   "id": "7dc46ea8-b79a-4255-a767-9851ba5de99c",
   "metadata": {},
   "outputs": [],
   "source": [
    "# #多头model\n",
    "# model = MULTI_HEAD_LTV_MODEL(5, [160], [100], 'user_dense_features', 'user_dense_price_features', 'user_dense_duration_features',\n",
    "#                             'user_sparse_features',user_sparse_features, emb_features)\n",
    "\n",
    "model = Single_HEAD_LTV_MODEL(5, [160], [100], 'user_dense_features', 'user_dense_price_features', 'user_dense_duration_features',\n",
    "                            'user_sparse_features',user_sparse_features, emb_features)\n",
    "Single_HEAD_LTV_MODEL\n",
    "# 自己实现的双口loss\n",
    "early_stopping = tf.keras.callbacks.EarlyStopping(\n",
    "    monitor='val_loss',  # 监控验证集上的 loss\n",
    "    patience=3,          # 如果连续 3 轮没有改善，就停止训练\n",
    "    restore_best_weights=True  # 训练结束后恢复到最优模型\n",
    ")\n",
    "\n",
    "loss_fn = UnifiedLTVLoss('delta')\n",
    "model.compile(loss=loss_fn, \n",
    "              optimizer = tf.keras.optimizers.Adam(learning_rate=0.01),  \n",
    "              metrics=[tf.keras.metrics.RootMeanSquaredError(name='rmse')]\n",
    "             )\n"
   ]
  },
  {
   "cell_type": "code",
   "execution_count": 17,
   "id": "49cdd2aa",
   "metadata": {
    "ExecuteTime": {
     "end_time": "2025-06-24T07:49:36.643468Z",
     "start_time": "2025-06-24T07:48:03.904410Z"
    },
    "code_folding": [
     0
    ],
    "scrolled": true
   },
   "outputs": [
    {
     "name": "stdout",
     "output_type": "stream",
     "text": [
      "Epoch 1/20\n",
      "(None, 120)\n",
      "(None, 120)\n",
      "(None, 120)nown - 20s 79ms/step - rmse: 28987.2031\n",
      "248/248 [==============================] - 23s 91ms/step - rmse: 28987.2031 - val_loss: 139345.0938 - val_rmse: 376.7098\n",
      "Epoch 2/20\n",
      "248/248 [==============================] - 23s 91ms/step - rmse: 363.5146 - val_loss: 114527.4453 - val_rmse: 342.9494\n",
      "Epoch 3/20\n",
      "248/248 [==============================] - 26s 105ms/step - rmse: 299.4290 - val_loss: 80515.5703 - val_rmse: 289.5388\n",
      "Epoch 4/20\n",
      "248/248 [==============================] - 24s 96ms/step - rmse: 274.9576 - val_loss: 75048.0469 - val_rmse: 280.6960\n",
      "Epoch 5/20\n",
      "248/248 [==============================] - 25s 101ms/step - rmse: 265.1769 - val_loss: 86640.0859 - val_rmse: 302.7301\n",
      "Epoch 6/20\n",
      "248/248 [==============================] - 23s 93ms/step - rmse: 326.9349 - val_loss: 879110.2500 - val_rmse: 936.6517\n",
      "Epoch 7/20\n",
      "248/248 [==============================] - 23s 93ms/step - rmse: 433.5673 - val_loss: 69189.2422 - val_rmse: 272.4338\n",
      "Epoch 8/20\n",
      "248/248 [==============================] - 23s 93ms/step - rmse: 316.4300 - val_loss: 108405.8672 - val_rmse: 338.7241\n",
      "Epoch 9/20\n",
      "248/248 [==============================] - 23s 93ms/step - rmse: 304.9417 - val_loss: 97747.6406 - val_rmse: 323.1518\n",
      "Epoch 10/20\n",
      "248/248 [==============================] - 24s 95ms/step - rmse: 305.8362 - val_loss: 167817.7656 - val_rmse: 418.9073\n"
     ]
    },
    {
     "data": {
      "text/plain": [
       "<keras.callbacks.History at 0x29932544910>"
      ]
     },
     "execution_count": 17,
     "metadata": {},
     "output_type": "execute_result"
    }
   ],
   "source": [
    "model.fit(\n",
    "    create_tf_dataset(train_dataset),\n",
    "    epochs=20,\n",
    "    validation_data = create_tf_dataset(valid_dataset),\n",
    "    callbacks= [early_stopping]\n",
    ") "
   ]
  },
  {
   "cell_type": "code",
   "execution_count": 18,
   "id": "1278a251-682e-49ed-9db1-cfc25b7d0b34",
   "metadata": {},
   "outputs": [
    {
     "name": "stdout",
     "output_type": "stream",
     "text": [
      "(2000, 120)\n",
      "(1954, 120)\n",
      "(1927, 120)\n",
      "(2009, 120)\n",
      "(1962, 120)\n",
      "(2068, 120)\n",
      "(1991, 120)\n",
      "(2024, 120)\n",
      "(1978, 120)\n",
      "(2005, 120)\n",
      "(1982, 120)\n",
      "(1987, 120)\n",
      "(1987, 120)\n",
      "(1999, 120)\n",
      "(1991, 120)\n",
      "(1961, 120)\n",
      "(2029, 120)\n",
      "(2052, 120)\n",
      "(2044, 120)\n",
      "(2017, 120)\n",
      "(2031, 120)\n",
      "(2063, 120)\n",
      "(1969, 120)\n",
      "(2034, 120)\n",
      "(2041, 120)\n",
      "(1943, 120)\n",
      "(1969, 120)\n",
      "(1983, 120)\n",
      "(1997, 120)\n",
      "(2049, 120)\n",
      "(1973, 120)\n",
      "(2008, 120)\n",
      "(2025, 120)\n",
      "(1971, 120)\n",
      "(2008, 120)\n",
      "(1184, 120)\n"
     ]
    },
    {
     "data": {
      "text/plain": [
       "{'pred_sum': {0: 5093339.0, 1: 0.0, 2: 0.0, 3: 0.0, 4: 0.0},\n",
       " 'true_sum': {0: 4955362.0, 1: 0.0, 2: 0.0, 3: 0.0, 4: 0.0},\n",
       " 'bias': {0: 0.03, 1: 0.0, 2: 0.0, 3: 0.0, 4: 0.0}}"
      ]
     },
     "execution_count": 18,
     "metadata": {},
     "output_type": "execute_result"
    }
   ],
   "source": [
    "model.evaluate_exp(create_tf_dataset(valid_dataset))"
   ]
  },
  {
   "cell_type": "code",
   "execution_count": 19,
   "id": "af057d6e",
   "metadata": {
    "ExecuteTime": {
     "end_time": "2025-06-24T08:15:15.701261Z",
     "start_time": "2025-06-24T08:15:00.659755Z"
    },
    "scrolled": true
   },
   "outputs": [
    {
     "name": "stdout",
     "output_type": "stream",
     "text": [
      "(2000, 120)\n",
      "(1954, 120)\n",
      "(1927, 120)\n",
      "(2009, 120)\n",
      "(1962, 120)\n",
      "(2068, 120)\n",
      "(1991, 120)\n",
      "(2024, 120)\n",
      "(1978, 120)\n",
      "(2005, 120)\n",
      "(1982, 120)\n",
      "(1987, 120)\n",
      "(1987, 120)\n",
      "(1999, 120)\n",
      "(1991, 120)\n",
      "(1961, 120)\n",
      "(2029, 120)\n",
      "(2052, 120)\n",
      "(2044, 120)\n",
      "(2017, 120)\n",
      "(2031, 120)\n",
      "(2063, 120)\n",
      "(1969, 120)\n",
      "(2034, 120)\n",
      "(2041, 120)\n",
      "(1943, 120)\n",
      "(1969, 120)\n",
      "(1983, 120)\n",
      "(1997, 120)\n",
      "(2049, 120)\n",
      "(1973, 120)\n",
      "(2008, 120)\n",
      "(2025, 120)\n",
      "(1971, 120)\n",
      "(2008, 120)\n",
      "(1184, 120)\n"
     ]
    },
    {
     "data": {
      "image/png": "[encoded data removed]",
      "text/plain": [
       "<Figure size 1000x600 with 1 Axes>"
      ]
     },
     "metadata": {},
     "output_type": "display_data"
    }
   ],
   "source": [
    "hour_model_pred = model.evaluate_rank(create_tf_dataset(valid_dataset))"
   ]
  },
  {
   "cell_type": "code",
   "execution_count": 20,
   "id": "fba39f6d-9003-4025-8005-0b42d6a54884",
   "metadata": {},
   "outputs": [
    {
     "data": {
      "text/plain": [
       "{'1_h rank_score': 0.8333957023348806}"
      ]
     },
     "execution_count": 20,
     "metadata": {},
     "output_type": "execute_result"
    }
   ],
   "source": [
    "hour_model_pred"
   ]
  },
  {
   "cell_type": "code",
   "execution_count": null,
   "id": "0d730272-c195-4dfb-a59d-c6fb84538210",
   "metadata": {},
   "outputs": [],
   "source": [
    "\n",
    "for t1 in "
   ]
  },
  {
   "cell_type": "code",
   "execution_count": null,
   "id": "2db51fbd-e798-48da-b1a2-bc914764e9f7",
   "metadata": {},
   "outputs": [],
   "source": []
  },
  {
   "cell_type": "code",
   "execution_count": null,
   "id": "2b9a126b-42cb-4874-b5f8-d3311bdf1941",
   "metadata": {},
   "outputs": [],
   "source": []
  }
 ],
 "metadata": {
  "kernelspec": {
   "display_name": "tfgpu",
   "language": "python",
   "name": "tfgpu215"
  },
  "language_info": {
   "codemirror_mode": {
    "name": "ipython",
    "version": 3
   },
   "file_extension": ".py",
   "mimetype": "text/x-python",
   "name": "python",
   "nbconvert_exporter": "python",
   "pygments_lexer": "ipython3",
   "version": "3.10.14"
  },
  "toc": {
   "base_numbering": 1,
   "nav_menu": {},
   "number_sections": true,
   "sideBar": true,
   "skip_h1_title": false,
   "title_cell": "Table of Contents",
   "title_sidebar": "Contents",
   "toc_cell": false,
   "toc_position": {},
   "toc_section_display": true,
   "toc_window_display": false
  }
 },
 "nbformat": 4,
 "nbformat_minor": 5
}
