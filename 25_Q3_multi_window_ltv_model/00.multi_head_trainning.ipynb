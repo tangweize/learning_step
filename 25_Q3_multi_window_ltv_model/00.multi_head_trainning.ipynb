{
 "cells": [
  {
   "cell_type": "code",
   "execution_count": 1,
   "id": "0933135b",
   "metadata": {
    "ExecuteTime": {
     "end_time": "2025-06-24T08:14:21.965464Z",
     "start_time": "2025-06-24T08:14:18.922432Z"
    },
    "code_folding": [
     14
    ],
    "scrolled": true
   },
   "outputs": [],
   "source": [
    "import sys\n",
    "import os\n",
    "import json\n",
    "import tensorflow as tf\n",
    "import tqdm\n",
    "from models.model import *\n",
    "from ltv_utils import *\n",
    "from losses.custom_loss import *\n",
    "pd.set_option('display.float_format', '{:.4f}'.format)  # 保留10位小数，可调整\n",
    "import warnings\n",
    "warnings.simplefilter(action='ignore', category=UserWarning)\n",
    "\n",
    "\n",
    "\n",
    "def parse_function(serialized_example):\n",
    "    feature_description = {\n",
    "        'deviceid': tf.io.FixedLenFeature([], tf.string),\n",
    "        'install_date': tf.io.FixedLenFeature([], tf.string),\n",
    "        'dim_os_name1': tf.io.FixedLenFeature([], tf.string),\n",
    "        'creative_classify1': tf.io.FixedLenFeature([], tf.string),\n",
    "        'total_pay_amount1':  tf.io.FixedLenFeature([], tf.float32),\n",
    "         'channel1': tf.io.FixedLenFeature([], tf.string),\n",
    "        'b2_sale_amt_bias':  tf.io.FixedLenFeature([], tf.int64),\n",
    "         'b2_sale_amt_7d': tf.io.FixedLenFeature([], tf.int64),\n",
    "         'install_time': tf.io.FixedLenFeature([], tf.string),\n",
    "        'install_order_diff':  tf.io.FixedLenFeature([], tf.int64),\n",
    "        'all_install_order_7d_diff':  tf.io.FixedLenFeature([], tf.int64),\n",
    "        'is_a1x_a33':  tf.io.FixedLenFeature([], tf.int64),\n",
    "        'platform_label':  tf.io.FixedLenFeature([], tf.string),\n",
    "        'user_dense_price_features': tf.io.FixedLenFeature([len(group_2_features['user_dense_price_features'])], tf.float32),\n",
    "        'user_dense_duration_features': tf.io.FixedLenFeature([len(group_2_features['user_dense_duration_features'])], tf.float32),\n",
    "        'user_dense_features': tf.io.FixedLenFeature([len(group_2_features['user_dense_features'])], tf.float32),\n",
    "        'user_sparse_features': tf.io.FixedLenFeature([len(group_2_features['user_sparse_features'])], tf.float32)\n",
    "    }\n",
    "    example = tf.io.parse_single_example(serialized_example, feature_description)\n",
    "    return example\n",
    "\n",
    "\n",
    "# load tf records\n",
    "group_2_features = read_feature_json_config('features/feature_list.json')\n",
    "\n",
    "train_file_name = 'data/ltv_0522_0603_multi_window_model_train/part-r-00000'\n",
    "valid_file_name = 'data/ltv_0522_0603_multi_window_model_valid/part-r-00000'\n",
    "test_file_name = 'data/ltv_0522_0603_multi_window_model_test/part-r-00000'\n",
    "\n",
    "train_dataset, valid_dataset, test_dataset = get_trian_valid_test_dateset(parse_function, 10240, train_file_name, valid_file_name, test_file_name)\n",
    "\n",
    "\n",
    "\n",
    "user_dense_price_features = group_2_features['user_dense_price_features']\n",
    "user_dense_duration_features = group_2_features['user_dense_duration_features']\n",
    "user_dense_features = group_2_features['user_dense_features']\n",
    "user_sparse_features = group_2_features['user_sparse_features']\n"
   ]
  },
  {
   "cell_type": "code",
   "execution_count": 2,
   "id": "063ab177-dbac-4ddc-9493-f1d8a4efb6e6",
   "metadata": {},
   "outputs": [],
   "source": [
    "MODEL_HOUR = 0 "
   ]
  },
  {
   "cell_type": "code",
   "execution_count": 3,
   "id": "7de35113",
   "metadata": {
    "ExecuteTime": {
     "end_time": "2025-06-24T08:14:23.991128Z",
     "start_time": "2025-06-24T08:14:23.973825Z"
    }
   },
   "outputs": [],
   "source": [
    "def create_tf_dataset(dataset):\n",
    "    sample_batch = next(iter(dataset))\n",
    "    sample_data = {k: v for k, v in sample_batch.items() if k not in ['b2_sale_amt_7d', 'total_pay_amount1']}\n",
    "\n",
    "    \n",
    "    def generator():\n",
    "        for batch in dataset:\n",
    "            hour = tf.cast(tf.gather(batch['user_sparse_features'],  indices=0, axis = 1) - 1, tf.int64)    # shape: (batch_size,)\n",
    "            b2_7d = tf.cast(tf.reshape(batch.pop('b2_sale_amt_7d'), (-1, 1)), tf.float32)\n",
    "            # 将 b2_7d 中小于 0 的值替换为 0\n",
    "            b2_7d = tf.maximum(b2_7d, 0.0)\n",
    "            \n",
    "            total_amt_1h = tf.reshape(batch.pop('total_pay_amount1'), (-1, 1))\n",
    "\n",
    "\n",
    "            # 将保留的样本和标签一起返回\n",
    "            y_true_packed = tf.concat([b2_7d, total_amt_1h], axis=1)\n",
    "\n",
    "            # y_true_packed = b2_7d\n",
    "            yield batch, y_true_packed\n",
    "        \n",
    "\n",
    "    # 正确写法：output_signature 中保留每个字段的真实 shape\n",
    "    output_signature = (\n",
    "        {\n",
    "            name: tf.TensorSpec(shape=(None,) + v.shape[1:], dtype=v.dtype)\n",
    "            for name, v in sample_data.items()\n",
    "        },\n",
    "        tf.TensorSpec(shape=(None, 2), dtype=tf.float32)\n",
    "    )\n",
    "\n",
    "    return tf.data.Dataset.from_generator(generator, output_signature=output_signature)"
   ]
  },
  {
   "cell_type": "code",
   "execution_count": 12,
   "id": "13c54350",
   "metadata": {
    "ExecuteTime": {
     "end_time": "2025-06-24T08:14:25.021680Z",
     "start_time": "2025-06-24T08:14:24.757019Z"
    }
   },
   "outputs": [],
   "source": [
    "\n",
    "emb_features = [\n",
    "'creative_classify','dim_device_manufacture', 'car_add_type_most','show_order_is_2arrival_latest', 'selecttirecount_most', 'show_order_is_2arrival_most','selecttirecount_latest',\n",
    " 'new_sitename','advsite','car_add_type_latest','platform_level', 'tire_list_click_avg_index','tire_list_click_most_pid_level','tire_order_page_most_pid_level',\n",
    "]\n",
    "\n",
    "\n",
    "model = MULTI_HEAD_LTV_MODEL(5, [200], [200,128], 'user_dense_features', 'user_dense_price_features', 'user_dense_duration_features',\n",
    "                            'user_sparse_features',user_sparse_features, emb_features)\n",
    "\n",
    "\n",
    "sample = next(iter(train_dataset))\n",
    "input_shape = {k: v.shape for k, v in sample.items()}\n"
   ]
  },
  {
   "cell_type": "code",
   "execution_count": 13,
   "id": "7dc46ea8-b79a-4255-a767-9851ba5de99c",
   "metadata": {},
   "outputs": [],
   "source": [
    "# 自己实现的双口loss\n",
    "early_stopping = tf.keras.callbacks.EarlyStopping(\n",
    "    monitor='val_rmse',  # 监控验证集上的 loss\n",
    "    patience=5,          # 如果连续 3 轮没有改善，就停止训练\n",
    "    restore_best_weights=True  # 训练结束后恢复到最优模型\n",
    ")\n",
    "\n",
    "loss_fn = UnifiedLTVLoss('tweedie')\n",
    "model.compile(loss=loss_fn, \n",
    "              optimizer = tf.keras.optimizers.Adam(learning_rate=0.001),  \n",
    "              metrics=[tf.keras.metrics.RootMeanSquaredError(name='rmse')]\n",
    "             )\n"
   ]
  },
  {
   "cell_type": "code",
   "execution_count": null,
   "id": "49cdd2aa",
   "metadata": {
    "ExecuteTime": {
     "end_time": "2025-06-24T07:49:36.643468Z",
     "start_time": "2025-06-24T07:48:03.904410Z"
    },
    "code_folding": [
     0
    ],
    "scrolled": true
   },
   "outputs": [
    {
     "name": "stdout",
     "output_type": "stream",
     "text": [
      "Epoch 1/30\n",
      "243/243 [==============================] - 34s 133ms/step - rmse: 242.5759 - val_loss: 245.8857 - val_rmse: 249.1892\n",
      "Epoch 2/30\n",
      "243/243 [==============================] - 28s 114ms/step - rmse: 249.7117 - val_loss: 38.7553 - val_rmse: 254.0427\n",
      "Epoch 3/30\n",
      "243/243 [==============================] - 28s 116ms/step - rmse: 254.8911 - val_loss: 30.0516 - val_rmse: 270.5770\n",
      "Epoch 4/30\n",
      "243/243 [==============================] - 29s 118ms/step - rmse: 275.7637 - val_loss: 40.1367 - val_rmse: 252.1023\n",
      "Epoch 5/30\n",
      " 28/243 [==>...........................] - ETA: 26s - rmse: 255.7175"
     ]
    }
   ],
   "source": [
    "model.fit(\n",
    "    create_tf_dataset(train_dataset),\n",
    "    epochs=30,\n",
    "    validation_data = create_tf_dataset(valid_dataset),\n",
    "    callbacks= [early_stopping]\n",
    ") "
   ]
  },
  {
   "cell_type": "code",
   "execution_count": null,
   "id": "1278a251-682e-49ed-9db1-cfc25b7d0b34",
   "metadata": {},
   "outputs": [],
   "source": [
    "model.evaluate_exp(create_tf_dataset(valid_dataset))"
   ]
  },
  {
   "cell_type": "code",
   "execution_count": null,
   "id": "af057d6e",
   "metadata": {
    "ExecuteTime": {
     "end_time": "2025-06-24T08:15:15.701261Z",
     "start_time": "2025-06-24T08:15:00.659755Z"
    },
    "scrolled": true
   },
   "outputs": [],
   "source": [
    "hour_model_pred = model.evaluate_rank(create_tf_dataset(valid_dataset))"
   ]
  },
  {
   "cell_type": "code",
   "execution_count": null,
   "id": "fba39f6d-9003-4025-8005-0b42d6a54884",
   "metadata": {},
   "outputs": [],
   "source": [
    "hour_model_pred"
   ]
  },
  {
   "cell_type": "code",
   "execution_count": null,
   "id": "8e87bdc2-f936-4133-bb81-b1bf9aacfd7a",
   "metadata": {
    "scrolled": true
   },
   "outputs": [],
   "source": [
    "hour_model_pred = model.evaluate_rank(create_tf_dataset(test_dataset))\n",
    "hour_model_pred"
   ]
  },
  {
   "cell_type": "code",
   "execution_count": null,
   "id": "a79d0da9-842f-4c7d-a596-dcf44b5c2f34",
   "metadata": {},
   "outputs": [],
   "source": []
  },
  {
   "cell_type": "markdown",
   "id": "aad08a0c-bb01-4383-bf42-8571b9f6dcff",
   "metadata": {},
   "source": [
    "## debug "
   ]
  },
  {
   "cell_type": "code",
   "execution_count": 15,
   "id": "403c334e-22fd-431f-b273-e8a3be385258",
   "metadata": {},
   "outputs": [],
   "source": [
    "y_pred = tf.constant([[-0.117290013]])\n",
    "y_true = tf.constant([[0.0]])"
   ]
  },
  {
   "cell_type": "code",
   "execution_count": 16,
   "id": "45bcc2e4-75c5-4f47-bbe6-87c813416b65",
   "metadata": {},
   "outputs": [
    {
     "name": "stdout",
     "output_type": "stream",
     "text": [
      "tf.Tensor([[nan]], shape=(1, 1), dtype=float32) tf.Tensor([[nan]], shape=(1, 1), dtype=float32)\n",
      "[[nan]]\n"
     ]
    }
   ],
   "source": [
    "y_pred = tf.constant([[-0.117290013]])\n",
    "y_true = tf.constant([[0.0]])\n",
    "\n",
    "p = 1.5\n",
    "term2 = tf.math.pow(y_pred, 2 - p) / (2 - p)\n",
    "term1 = y_true * tf.math.pow(y_pred, 1 - p) / (1 - p)\n",
    "print(term2, term1)\n",
    "temp_loss = (term2 - term1)\n",
    "# debug\n",
    "tf.print(temp_loss)\n",
    "loss = tf.reduce_mean(temp_loss)"
   ]
  },
  {
   "cell_type": "code",
   "execution_count": null,
   "id": "8ceb4e07-0ecb-4e2b-bfe1-713737862f9a",
   "metadata": {},
   "outputs": [],
   "source": []
  }
 ],
 "metadata": {
  "kernelspec": {
   "display_name": "Python 3 (ipykernel)",
   "language": "python",
   "name": "python3"
  },
  "language_info": {
   "codemirror_mode": {
    "name": "ipython",
    "version": 3
   },
   "file_extension": ".py",
   "mimetype": "text/x-python",
   "name": "python",
   "nbconvert_exporter": "python",
   "pygments_lexer": "ipython3",
   "version": "3.10.14"
  },
  "toc": {
   "base_numbering": 1,
   "nav_menu": {},
   "number_sections": true,
   "sideBar": true,
   "skip_h1_title": false,
   "title_cell": "Table of Contents",
   "title_sidebar": "Contents",
   "toc_cell": false,
   "toc_position": {},
   "toc_section_display": true,
   "toc_window_display": false
  }
 },
 "nbformat": 4,
 "nbformat_minor": 5
}
